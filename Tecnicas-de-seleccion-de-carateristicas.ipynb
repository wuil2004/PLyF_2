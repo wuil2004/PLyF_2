{
 "cells": [
  {
   "cell_type": "markdown",
   "id": "aeb1ffe8",
   "metadata": {},
   "source": [
    "# Caso practico Seleccion de Carateristicas\n",
    "\n",
    "En este caso de uso practico se presenta un mecanismo de seleccion de carateristicas mediante el uso de Random Forest.\n",
    "\n",
    "\n",
    "## Dataset: Deteccion de malware en Android\n",
    "\n",
    "Android malware dataset (CIC-AndMal2017)\n",
    "We propose our new Android malware dataset here, named CICAndMal2017. In this approach, we run our both malware and benign applications on real smartphones to avoid runtime behaviour modification of advanced malware samples that are able to detect the emulator environment. We collected more than 10,854 samples (4,354 malware and 6,500 benign) from several sources. We have collected over six thousand benign apps from Googleplay market published in 2015, 2016, 2017.\n",
    "\n",
    "We installed 5,000 of the collected samples (426 malware and 5,065 benign) on real devices. Our malware samples in the CICAndMal2017 dataset are classified into four categories:\n",
    "\n",
    "Adware\n",
    "Ransomware\n",
    "Scareware\n",
    "SMS Malware\n",
    "Our samples come from 42 unique malware families. The family kinds of each category and the numbers of the captured samples are as follows:\n",
    "\n",
    "Adware\n",
    "Dowgin family, 10 captured samples\n",
    "Ewind family, 10 captured samples\n",
    "Feiwo family, 15 captured samples\n",
    "Gooligan family, 14 captured samples\n",
    "Kemoge family, 11 captured samples\n",
    "koodous family, 10 captured samples\n",
    "Mobidash family, 10 captured samples\n",
    "Selfmite family, 4 captured samples\n",
    "Shuanet family, 10 captured samples\n",
    "Youmi family, 10 captured samples\n",
    "Ransomware\n",
    "Charger family, 10 captured samples\n",
    "Jisut family, 10 captured samples\n",
    "Koler family, 10 captured samples\n",
    "LockerPin family, 10 captured samples\n",
    "Simplocker family, 10 captured samples\n",
    "Pletor family, 10 captured samples\n",
    "PornDroid family, 10 captured samples\n",
    "RansomBO family, 10 captured samples\n",
    "Svpeng family, 11 captured samples\n",
    "WannaLocker family, 10 captured samples\n",
    "Scareware\n",
    "AndroidDefender 17 captured samples\n",
    "AndroidSpy.277 family, 6 captured samples\n",
    "AV for Android family, 10 captured samples\n",
    "AVpass family, 10 captured samples\n",
    "FakeApp family, 10 captured samples\n",
    "FakeApp.AL family, 11 captured samples\n",
    "FakeAV family, 10 captured samples\n",
    "FakeJobOffer family, 9 captured samples\n",
    "FakeTaoBao family, 9 captured samples\n",
    "Penetho family, 10 captured samples\n",
    "VirusShield family, 10 captured samples\n",
    "SMS Malware\n",
    "BeanBot family, 9 captured samples\n",
    "Biige family, 11 captured samples\n",
    "FakeInst family, 10 captured samples\n",
    "FakeMart family, 10 captured samples\n",
    "FakeNotify family, 10 captured samples\n",
    "Jifake family, 10 captured samples\n",
    "Mazarbot family, 9 captured samples\n",
    "Nandrobox family, 11 captured samples\n",
    "Plankton family, 10 captured samples\n",
    "SMSsniffer family, 9 captured samples\n",
    "Zsone family, 10 captured samples\n",
    "In order to acquire a comprehensive view of our malware samples, we created a specific scenario for each malware category. We also defined three states of data capturing in order to overcome the stealthiness of an advanced malware:\n",
    "\n",
    "Installation: The first state of data capturing which occurs immediately after installing malware (1-3 min).\n",
    "Before restart: The second state of data capturing which occurs 15 min before rebooting phones.\n",
    "After restart: The last state of data capturing which occurs 15 min after rebooting phones.\n",
    "For feature Extraction and Selection, we captured network traffic features (.pcap files), and extracted more than 80 features by using CICFlowMeter-V3 during all three mentioned states (installation, before restart, and after restart). \n",
    "\n",
    "License\n",
    "The CICAndMal2017 dataset is publicly available for researchers. If you are using our dataset, you should cite our related research paper that outlines the details of the dataset and its underlying principles:\n",
    "\n",
    "Arash Habibi Lashkari, Andi Fitriah A. Kadir, Laya Taheri, and Ali A. Ghorbani, “Toward Developing a Systematic Approach to Generate Benchmark Android Malware Datasets and Classification”, In the proceedings of the 52nd IEEE International Carnahan Conference on Security Technology (ICCST), Montreal, Quebec, Canada, 2018.\n",
    "\n",
    "[Descargar Dataset]"
   ]
  },
  {
   "cell_type": "markdown",
   "id": "f462efd5",
   "metadata": {},
   "source": [
    "# imports\n"
   ]
  },
  {
   "cell_type": "code",
   "execution_count": 1,
   "id": "6d5eddfb",
   "metadata": {},
   "outputs": [],
   "source": [
    "import pandas as pd\n",
    "import numpy as np\n",
    "from sklearn.model_selection import train_test_split\n",
    "from sklearn.preprocessing import RobustScaler\n",
    "from sklearn.metrics import f1_score"
   ]
  },
  {
   "cell_type": "code",
   "execution_count": null,
   "id": "5feb40ee",
   "metadata": {},
   "outputs": [],
   "source": [
    "# homwork}\n",
    "\n",
    "#1.- funciones auxiliares\n",
    "#2.- eliminacion de etiquetas (remove_labels)\n",
    "#3.- lectura del dataset (.../Dataset/TotalFeactures-ISCXFlowMeter.svc)\n",
    "#4.- visualizacion del dataset\n",
    "    #head\n",
    "    #info\n",
    "    #describe\n",
    "#5.- division del dataset (train_test_split)"
   ]
  },
  {
   "cell_type": "code",
   "execution_count": null,
   "id": "29c1319d",
   "metadata": {},
   "outputs": [],
   "source": []
  }
 ],
 "metadata": {
  "kernelspec": {
   "display_name": "PLyF",
   "language": "python",
   "name": "python3"
  },
  "language_info": {
   "codemirror_mode": {
    "name": "ipython",
    "version": 3
   },
   "file_extension": ".py",
   "mimetype": "text/x-python",
   "name": "python",
   "nbconvert_exporter": "python",
   "pygments_lexer": "ipython3",
   "version": "3.12.3"
  }
 },
 "nbformat": 4,
 "nbformat_minor": 5
}
