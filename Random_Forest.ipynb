{
 "cells": [
  {
   "cell_type": "markdown",
   "id": "76a2dba9",
   "metadata": {},
   "source": [
    "# Caso practico: Random Forest\n",
    "\n",
    "En este caso de uso práctico se pretende resolver un problema de detección de malware en dispositivos Android mediante el analisis."
   ]
  },
  {
   "cell_type": "markdown",
   "id": "9b513dd8",
   "metadata": {},
   "source": []
  }
 ],
 "metadata": {
  "language_info": {
   "name": "python"
  }
 },
 "nbformat": 4,
 "nbformat_minor": 5
}
