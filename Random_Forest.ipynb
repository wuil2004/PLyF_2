{
 "cells": [
  {
   "cell_type": "markdown",
   "id": "76a2dba9",
   "metadata": {},
   "source": [
    "# caso Practico : Random Forest\n",
    "En este caso de uso practico se pretende resolver un problema de deteccion de malware en dispositivos android mediante el analisis del trafico de red que genera el dispositivo medinte el uso de conjuntos de árboles de decisión "
   ]
  },
  {
   "cell_type": "markdown",
   "id": "9b513dd8",
   "metadata": {},
   "source": []
  }
 ],
 "metadata": {
  "kernelspec": {
   "display_name": "PLyF",
   "language": "python",
   "name": "python3"
  },
  "language_info": {
   "name": "python",
   "version": "3.12.3"
  }
 },
 "nbformat": 4,
 "nbformat_minor": 5
}
